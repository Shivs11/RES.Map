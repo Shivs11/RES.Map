{
 "cells": [
  {
   "cell_type": "code",
   "execution_count": 24,
   "metadata": {},
   "outputs": [
    {
     "data": {
      "application/vnd.jupyter.widget-view+json": {
       "model_id": "af8829fe7c1944d5b3f496a08563dad0",
       "version_major": 2,
       "version_minor": 0
      },
      "text/plain": [
       "VBox(children=(Button(description='Add Solar Panel', layout=Layout(height='80px', width='50%'), style=ButtonSt…"
      ]
     },
     "metadata": {},
     "output_type": "display_data"
    },
    {
     "data": {
      "application/vnd.jupyter.widget-view+json": {
       "model_id": "279d6e3bb5ab475a851e7f52f1984ca8",
       "version_major": 2,
       "version_minor": 0
      },
      "text/plain": [
       "VBox(children=(Button(description='Add Solar Potential', layout=Layout(height='80px', width='50%'), style=Butt…"
      ]
     },
     "metadata": {},
     "output_type": "display_data"
    },
    {
     "data": {
      "application/vnd.jupyter.widget-view+json": {
       "model_id": "667805b2bed14cb99dda1ad211d6d1d0",
       "version_major": 2,
       "version_minor": 0
      },
      "text/plain": [
       "MapView(layout=Layout(height='400px', width='100%'))"
      ]
     },
     "metadata": {},
     "output_type": "display_data"
    },
    {
     "data": {
      "text/html": [
       "<div class=\"map-static-img-preview-e840c43d-9304-49f6-b424-d82eb0e4d654\"><img src=\"\"></img></div>"
      ],
      "text/plain": [
       "<IPython.core.display.HTML object>"
      ]
     },
     "metadata": {},
     "output_type": "display_data"
    },
    {
     "data": {
      "text/html": [
       "<div class=\"map-html-embed-preview-e840c43d-9304-49f6-b424-d82eb0e4d654\"></div>"
      ],
      "text/plain": [
       "<IPython.core.display.HTML object>"
      ]
     },
     "metadata": {},
     "output_type": "display_data"
    }
   ],
   "source": [
    "from ipywidgets import Button, Layout\n",
    "from ipywidgets import Button, HBox, VBox\n",
    "\n",
    "from arcgis.gis import GIS\n",
    "from IPython.display import display\n",
    "gis = GIS() # anonymous connection to www.arcgis.com\n",
    "\n",
    "\n",
    "import import_ipynb\n",
    "import main\n",
    "\n",
    "solar_map_usa = gis.map(\"USA\", 3)\n",
    "def clicked(arg):\n",
    "\n",
    "    if(arg.description == \"Add Solar Panel\"):\n",
    "#         solar_map_usa = gis.map('USA',3)\n",
    "        solar_panel = gis.content.search('title: Solar Fields in US',\n",
    "                                    'Feature Layer')[0]\n",
    "        solar_map_usa.add_layer(solar_panel)\n",
    "\n",
    "    elif(arg.description == \"Remove Solar Panel\"):\n",
    "        solar_map_usa.remove_layers(solar_map_usa.layers[0])\n",
    "    elif(arg.description == \"Add Solar Potential\"):\n",
    "        solar_potential = gis.content.search('title: Solar Fields in US',\n",
    "                                    'Feature Layer')[0]\n",
    "        solar_map_usa.add_layer(solar_potential)\n",
    "    else:\n",
    "        return 1\n",
    "\n",
    "\n",
    "def please_show_map(opt):\n",
    "    \n",
    "    #Make a map here, an empty one.\n",
    "    \n",
    "    if opt == \"Solar\":\n",
    "        #We will be dealing with a solar based map.\n",
    "        \n",
    "\n",
    "#         solar_panels_button = Button(description='Add Solar Panels Layer',\n",
    "#            layout=Layout(width='50%', height='80px'))\n",
    "#         display(solar_panels_button)\n",
    "        \n",
    "#         solar_potential_button = Button(description='Add Solar Potential Layer',\n",
    "#            layout=Layout(width='50%', height='80px', right))\n",
    "#         display(solar_potential_button)\n",
    "\n",
    "\n",
    "\n",
    "        words = ['Add Solar Panel', 'Remove Solar Panel', 'Add Solar Potential', 'Remove Solar Potential']\n",
    "        items = [Button(description=w, layout=Layout(width='50%', height='80px')) for w in words]\n",
    "        left_box = VBox([items[0], items[1]])\n",
    "        right_box = VBox([items[2], items[3]])\n",
    "        HBox([left_box, right_box])\n",
    "\n",
    "        display(left_box, right_box)\n",
    "\n",
    "        items[0].on_click(clicked)\n",
    "        items[1].on_click(clicked)\n",
    "        items[2].on_click(clicked)\n",
    "        items[3].on_click(clicked)\n",
    "        \n",
    "please_show_map(\"Solar\")\n",
    "solar_map_usa"
   ]
  },
  {
   "cell_type": "code",
   "execution_count": null,
   "metadata": {},
   "outputs": [],
   "source": []
  },
  {
   "cell_type": "code",
   "execution_count": null,
   "metadata": {},
   "outputs": [],
   "source": []
  },
  {
   "cell_type": "code",
   "execution_count": null,
   "metadata": {},
   "outputs": [],
   "source": []
  },
  {
   "cell_type": "code",
   "execution_count": null,
   "metadata": {},
   "outputs": [
    {
     "name": "stdout",
     "output_type": "stream",
     "text": [
      "What is your name?\n"
     ]
    }
   ],
   "source": [
    "name = print(\"What is your name?\")\n",
    "name = input()\n",
    "mystring = \"Hey {name}, please choose a type of resource you want to check on\".format(name = name)\n",
    "mystring"
   ]
  },
  {
   "cell_type": "code",
   "execution_count": null,
   "metadata": {},
   "outputs": [],
   "source": [
    "d = widgets.Dropdown(options=['Solar', 'Wind'], value=None)\n",
    "d"
   ]
  },
  {
   "cell_type": "code",
   "execution_count": null,
   "metadata": {},
   "outputs": [],
   "source": [
    "please_show_map(d.value)"
   ]
  },
  {
   "cell_type": "code",
   "execution_count": null,
   "metadata": {},
   "outputs": [],
   "source": [
    "def clicked(arg):\n",
    "    print(\"button has been clicked!\")\n",
    "\n",
    "button_download = widgets.Button(description = 'Test Button')   \n",
    "button_download.on_click(clicked)\n",
    "display(button_download)"
   ]
  },
  {
   "cell_type": "code",
   "execution_count": null,
   "metadata": {},
   "outputs": [],
   "source": []
  }
 ],
 "metadata": {
  "kernelspec": {
   "display_name": "Python 3",
   "language": "python",
   "name": "python3"
  },
  "language_info": {
   "codemirror_mode": {
    "name": "ipython",
    "version": 3
   },
   "file_extension": ".py",
   "mimetype": "text/x-python",
   "name": "python",
   "nbconvert_exporter": "python",
   "pygments_lexer": "ipython3",
   "version": "3.8.3"
  }
 },
 "nbformat": 4,
 "nbformat_minor": 4
}
