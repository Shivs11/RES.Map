{
 "cells": [
  {
   "cell_type": "code",
   "execution_count": 1,
   "metadata": {},
   "outputs": [
    {
     "name": "stdout",
     "output_type": "stream",
     "text": [
      "importing Jupyter notebook from main.ipynb\n"
     ]
    },
    {
     "data": {
      "application/vnd.jupyter.widget-view+json": {
       "model_id": "79169252e2c84e70a2058fb74f3002eb",
       "version_major": 2,
       "version_minor": 0
      },
      "text/plain": [
       "VBox(children=(Button(description='Add Wind Potential', layout=Layout(height='80px', width='50%'), style=Butto…"
      ]
     },
     "metadata": {},
     "output_type": "display_data"
    },
    {
     "data": {
      "application/vnd.jupyter.widget-view+json": {
       "model_id": "eca05c529add4e63a5001518028c8467",
       "version_major": 2,
       "version_minor": 0
      },
      "text/plain": [
       "VBox(children=(Button(description='Add Wind Turbines', layout=Layout(height='80px', width='50%'), style=Button…"
      ]
     },
     "metadata": {},
     "output_type": "display_data"
    },
    {
     "data": {
      "application/vnd.jupyter.widget-view+json": {
       "model_id": "5de92b0955a647828718a1a0cb12170d",
       "version_major": 2,
       "version_minor": 0
      },
      "text/plain": [
       "MapView(layout=Layout(height='400px', width='100%'))"
      ]
     },
     "metadata": {},
     "output_type": "display_data"
    },
    {
     "data": {
      "text/html": [
       "<div class=\"map-static-img-preview-6b42bcaa-51d4-4d8b-9b0d-3089ab4eaaa2\"><img src=\"\"></img></div>"
      ],
      "text/plain": [
       "<IPython.core.display.HTML object>"
      ]
     },
     "metadata": {},
     "output_type": "display_data"
    },
    {
     "data": {
      "text/html": [
       "<div class=\"map-html-embed-preview-6b42bcaa-51d4-4d8b-9b0d-3089ab4eaaa2\"></div>"
      ],
      "text/plain": [
       "<IPython.core.display.HTML object>"
      ]
     },
     "metadata": {},
     "output_type": "display_data"
    }
   ],
   "source": [
    "from ipywidgets import Button, Layout\n",
    "from ipywidgets import Button, HBox, VBox\n",
    "\n",
    "from arcgis.gis import GIS\n",
    "from IPython.display import display\n",
    "gis = GIS() # anonymous connection to www.arcgis.com\n",
    "\n",
    "\n",
    "import import_ipynb\n",
    "import main\n",
    "\n",
    "map_usa = gis.map(\"Washington\", zoomlevel = 10)\n",
    "\n",
    "def clicked(arg):\n",
    "\n",
    "    if(arg.description == \"Add Solar Panel\"):\n",
    "\n",
    "        solar_panel = gis.content.search('title: Solar Fields in US',\n",
    "                                    'Feature Layer')[0]\n",
    "        map_usa.add_layer(solar_panel)\n",
    "\n",
    "    elif(arg.description == \"Remove Solar Panel\"):\n",
    "        id_delete = \"68bc8c19eae04d6bbb49c82357c1762e\"\n",
    "        for i in map_usa.layers:\n",
    "            if i.properties.serviceItemId == id_delete:\n",
    "                removal = i\n",
    "                break\n",
    "        map_usa.remove_layers(removal)\n",
    "    elif(arg.description == \"Add Solar Potential\"):\n",
    "        solar_potential = gis.content.search('title: Solar Potential in US',\n",
    "                                    'Feature Layer')[-1]\n",
    "        map_usa.add_layer(solar_potential)\n",
    "    elif(arg.description == \"Remove Solar Potential\"):\n",
    "        id_delete = \"56f91702feaf417d955a7948b68af5fa\"\n",
    "        for i in map_usa.layers:\n",
    "            if i.properties.serviceItemId == id_delete:\n",
    "                removal = i\n",
    "                break\n",
    "                \n",
    "        map_usa.remove_layers(removal)\n",
    "    \n",
    "    \n",
    "    elif(arg.description == \"Add Wind Potential\"):\n",
    "        wind_potential = gis.content.search('title: Wind Potential USA',\n",
    "                                    'Feature Layer')[0]\n",
    "        map_usa.add_layer(wind_potential)\n",
    "        \n",
    "    elif(arg.description == \"Remove Wind Potential\"):\n",
    "        delete_id = \"9e0d4c4a56604ec3862bebd8c47a32e4\"\n",
    "        for i in map_usa.layers:\n",
    "            if i.properties.serviceItemId == delete_id:\n",
    "                removal = i\n",
    "                break\n",
    "                \n",
    "        map_usa.remove_layers(removal)\n",
    "        \n",
    "    elif(arg.description == \"Add Wind Turbines\"):\n",
    "        \n",
    "        wind_turbines = gis.content.search('title: Wind Turbines USA',\n",
    "                                    'Feature Layer')[1]\n",
    "        map_usa.add_layer(wind_turbines)\n",
    "    \n",
    "    else:\n",
    "        delete_id = \"5c4982db246d4640ae5b2e9f8b61be6e\"\n",
    "        for i in map_usa.layers:\n",
    "            if i.properties.serviceItemId == delete_id:\n",
    "                removal = i\n",
    "                break\n",
    "        \n",
    "        \n",
    "        map_usa.remove_layers(removal)\n",
    "            \n",
    "\n",
    "        \n",
    "        \n",
    "\n",
    "\n",
    "\n",
    "def please_show_map(opt):\n",
    "    \n",
    "    #Make a map here, an empty one.\n",
    "    \n",
    "    if opt == \"Solar\":\n",
    "        #We will be dealing with a solar based map.\n",
    "        \n",
    "\n",
    "        words = ['Add Solar Panel', 'Remove Solar Panel', 'Add Solar Potential', 'Remove Solar Potential']\n",
    "        items = [Button(description=w, layout=Layout(width='50%', height='80px')) for w in words]\n",
    "        left_box = VBox([items[0], items[1]])\n",
    "        right_box = VBox([items[2], items[3]])\n",
    "        HBox([left_box, right_box])\n",
    "\n",
    "        display(left_box, right_box)\n",
    "\n",
    "        items[0].on_click(clicked)\n",
    "        items[1].on_click(clicked)\n",
    "        items[2].on_click(clicked)\n",
    "        items[3].on_click(clicked)\n",
    "        \n",
    "        \n",
    "    elif opt == \"Wind\":\n",
    "        #We will be dealing with a Wind based map.\n",
    "        \n",
    "        words = ['Add Wind Potential', 'Remove Wind Potential', 'Add Wind Turbines', 'Remove Wind Turbines']\n",
    "        \n",
    "        \n",
    "        items = [Button(description=w, layout=Layout(width='50%', height='80px')) for w in words]\n",
    "        left_box = VBox([items[0], items[1]])\n",
    "        right_box = VBox([items[2], items[3]])\n",
    "        HBox([left_box, right_box])\n",
    "\n",
    "        display(left_box, right_box)\n",
    "\n",
    "        items[0].on_click(clicked)\n",
    "        items[1].on_click(clicked)\n",
    "        items[2].on_click(clicked)\n",
    "        items[3].on_click(clicked)\n",
    "        \n",
    "    \n",
    "        \n",
    "please_show_map(\"Wind\")\n",
    "map_usa"
   ]
  },
  {
   "cell_type": "code",
   "execution_count": null,
   "metadata": {},
   "outputs": [],
   "source": []
  },
  {
   "cell_type": "code",
   "execution_count": null,
   "metadata": {},
   "outputs": [],
   "source": []
  },
  {
   "cell_type": "code",
   "execution_count": null,
   "metadata": {},
   "outputs": [],
   "source": []
  },
  {
   "cell_type": "code",
   "execution_count": null,
   "metadata": {},
   "outputs": [
    {
     "name": "stdout",
     "output_type": "stream",
     "text": [
      "What is your name?\n"
     ]
    }
   ],
   "source": [
    "name = print(\"What is your name?\")\n",
    "name = input()\n",
    "mystring = \"Hey {name}, please choose a type of resource you want to check on\".format(name = name)\n",
    "mystring"
   ]
  },
  {
   "cell_type": "code",
   "execution_count": null,
   "metadata": {},
   "outputs": [],
   "source": [
    "d = widgets.Dropdown(options=['Solar', 'Wind'], value=None)\n",
    "d"
   ]
  },
  {
   "cell_type": "code",
   "execution_count": null,
   "metadata": {},
   "outputs": [],
   "source": [
    "please_show_map(d.value)"
   ]
  },
  {
   "cell_type": "code",
   "execution_count": null,
   "metadata": {},
   "outputs": [],
   "source": [
    "def clicked(arg):\n",
    "    print(\"button has been clicked!\")\n",
    "\n",
    "button_download = widgets.Button(description = 'Test Button')   \n",
    "button_download.on_click(clicked)\n",
    "display(button_download)"
   ]
  },
  {
   "cell_type": "code",
   "execution_count": null,
   "metadata": {},
   "outputs": [],
   "source": []
  }
 ],
 "metadata": {
  "kernelspec": {
   "display_name": "Python 3",
   "language": "python",
   "name": "python3"
  },
  "language_info": {
   "codemirror_mode": {
    "name": "ipython",
    "version": 3
   },
   "file_extension": ".py",
   "mimetype": "text/x-python",
   "name": "python",
   "nbconvert_exporter": "python",
   "pygments_lexer": "ipython3",
   "version": "3.8.3"
  }
 },
 "nbformat": 4,
 "nbformat_minor": 4
}
