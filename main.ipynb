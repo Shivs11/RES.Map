{
 "cells": [
  {
   "cell_type": "code",
   "execution_count": 13,
   "metadata": {},
   "outputs": [],
   "source": [
    "from arcgis.gis import GIS\n",
    "from IPython.display import display\n",
    "gis = GIS() # anonymous connection to www.arcgis.com\n",
    "\n"
   ]
  },
  {
   "cell_type": "code",
   "execution_count": 18,
   "metadata": {},
   "outputs": [
    {
     "data": {
      "text/html": [
       "<div class=\"item_container\" style=\"height: auto; overflow: hidden; border: 1px solid #cfcfcf; border-radius: 2px; background: #f6fafa; line-height: 1.21429em; padding: 10px;\">\n",
       "                    <div class=\"item_left\" style=\"width: 210px; float: left;\">\n",
       "                       <a href='https://www.arcgis.com/home/item.html?id=56f91702feaf417d955a7948b68af5fa' target='_blank'>\n",
       "                        <img src='https://www.arcgis.com/sharing/rest//content/items/56f91702feaf417d955a7948b68af5fa/info/thumbnail/thumbnail1591739666748.png' class=\"itemThumbnail\">\n",
       "                       </a>\n",
       "                    </div>\n",
       "\n",
       "                    <div class=\"item_right\"     style=\"float: none; width: auto; overflow: hidden;\">\n",
       "                        <a href='https://www.arcgis.com/home/item.html?id=56f91702feaf417d955a7948b68af5fa' target='_blank'><b>Untapped Solar Potential</b>\n",
       "                        </a>\n",
       "                        <br/>This feature layer contains both the solar potential aggregated to tract-level, and the percent of households in that tract using solar.  This information allows us to identify tracts that have untapped solar potential.<img src='https://www.arcgis.com/home/js/jsapi/esri/css/images/item_type_icons/featureshosted16.png' style=\"vertical-align:middle;\">Feature Layer Collection by dianaclavery_uo\n",
       "                        <br/>Last Modified: June 26, 2020\n",
       "                        <br/>0 comments, 3,707 views\n",
       "                    </div>\n",
       "                </div>\n",
       "                "
      ],
      "text/plain": [
       "<Item title:\"Untapped Solar Potential\" type:Feature Layer Collection owner:dianaclavery_uo>"
      ]
     },
     "execution_count": 18,
     "metadata": {},
     "output_type": "execute_result"
    }
   ],
   "source": [
    "#1. Wind\n",
    "search_results = gis.content.search('title: USA Wind Turbines',\n",
    "                                    'Feature Layer')\n",
    "\n",
    "# Access the first Item that's returned\n",
    "wind_turbines = gis.content.search('title: Wind Turbines USA',\n",
    "                                    'Feature Layer')[1]\n",
    "wind_potential = gis.content.search('title: Wind Potential USA',\n",
    "                                    'Feature Layer')[0]\n",
    "# Adding feature to the map\n",
    "wind_map_usa = gis.map('USA',3)\n",
    "# wind_map_usa.add_layer(wind_turbines)\n",
    "# wind_map_usa.add_layer(wind_potential)\n",
    "# Display the map\n",
    "\n",
    "\n",
    "\n",
    "# 2. Solar\n",
    "search_results = gis.content.search('title: USA Solar',\n",
    "                                    'Feature Layer')\n",
    "\n",
    "# Access the first Item that's returned\n",
    "solar_panel = gis.content.search('title: Solar Fields in US',\n",
    "                                    'Feature Layer')[0]\n",
    "solar_potential = gis.content.search('title: Solar Potential in US',\n",
    "                                    'Feature Layer')[-1]\n",
    "solar_potential\n",
    "\n",
    "# Adding feature to the map\n",
    "solar_map_usa = gis.map('USA',3)\n",
    "# solar_map_usa.add_layer(solar_panel)\n",
    "# solar_map_usa.add_layer(solar_potential)\n",
    "# # Display the map"
   ]
  },
  {
   "cell_type": "code",
   "execution_count": null,
   "metadata": {},
   "outputs": [],
   "source": []
  }
 ],
 "metadata": {
  "kernelspec": {
   "display_name": "Python 3",
   "language": "python",
   "name": "python3"
  },
  "language_info": {
   "codemirror_mode": {
    "name": "ipython",
    "version": 3
   },
   "file_extension": ".py",
   "mimetype": "text/x-python",
   "name": "python",
   "nbconvert_exporter": "python",
   "pygments_lexer": "ipython3",
   "version": "3.8.3"
  }
 },
 "nbformat": 4,
 "nbformat_minor": 4
}
